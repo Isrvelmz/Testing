{
 "cells": [
  {
   "cell_type": "markdown",
   "id": "dd5b27dd-417a-4013-909d-2656764e73d1",
   "metadata": {},
   "source": [
    "# Data Science Tools And Ecosystem"
   ]
  },
  {
   "cell_type": "markdown",
   "id": "f170f584-0e22-421f-a56d-e043e40be3eb",
   "metadata": {},
   "source": [
    "En este cuaderno, se resumen las herramientas y ecosistemas de ciencia de datos."
   ]
  },
  {
   "cell_type": "markdown",
   "id": "51a2489c-b27b-4b5e-a70a-5acee6f28ddb",
   "metadata": {},
   "source": [
    "Algunos de los lenguajes populares que utilizan los científicos de datos son:\n",
    "- Python\n",
    "- C++\n",
    "- R"
   ]
  },
  {
   "cell_type": "markdown",
   "id": "c3143ab2-ff52-450b-a2e4-66ebfafb25ed",
   "metadata": {},
   "source": [
    "Algunas de las bibliotecas comunmente utilizadas por los científicos de datos incluyen:\n",
    "- Pandas\n",
    "- Matplotlib\n",
    "- Seaborn\n",
    "- Numpy"
   ]
  },
  {
   "cell_type": "code",
   "execution_count": 3,
   "id": "a50eb139-f6ae-4d9a-82cc-f7674b772e88",
   "metadata": {},
   "outputs": [],
   "source": [
    "import pandas as pd"
   ]
  },
  {
   "cell_type": "code",
   "execution_count": 15,
   "id": "c8181018-bf36-41ef-be70-ec498c175099",
   "metadata": {},
   "outputs": [
    {
     "data": {
      "text/html": [
       "<div>\n",
       "<style scoped>\n",
       "    .dataframe tbody tr th:only-of-type {\n",
       "        vertical-align: middle;\n",
       "    }\n",
       "\n",
       "    .dataframe tbody tr th {\n",
       "        vertical-align: top;\n",
       "    }\n",
       "\n",
       "    .dataframe thead th {\n",
       "        text-align: right;\n",
       "    }\n",
       "</style>\n",
       "<table border=\"1\" class=\"dataframe\">\n",
       "  <thead>\n",
       "    <tr style=\"text-align: right;\">\n",
       "      <th></th>\n",
       "      <th>Herramientas de ciencia de datos</th>\n",
       "    </tr>\n",
       "  </thead>\n",
       "  <tbody>\n",
       "    <tr>\n",
       "      <th>0</th>\n",
       "      <td>Jupyter Notebook</td>\n",
       "    </tr>\n",
       "    <tr>\n",
       "      <th>1</th>\n",
       "      <td>Rstudio</td>\n",
       "    </tr>\n",
       "    <tr>\n",
       "      <th>2</th>\n",
       "      <td>Apache zepellin</td>\n",
       "    </tr>\n",
       "  </tbody>\n",
       "</table>\n",
       "</div>"
      ],
      "text/plain": [
       "  Herramientas de ciencia de datos\n",
       "0                 Jupyter Notebook\n",
       "1                          Rstudio\n",
       "2                  Apache zepellin"
      ]
     },
     "execution_count": 15,
     "metadata": {},
     "output_type": "execute_result"
    }
   ],
   "source": [
    "herramientas= [\"Jupyter Notebook\", \"Rstudio\", \"Apache zepellin\"]\n",
    "\n",
    "tabla = pd.DataFrame(herramientas, columns = [\"Herramientas de ciencia de datos\"])\n",
    "tabla"
   ]
  },
  {
   "cell_type": "markdown",
   "id": "1e6dced6-590f-4aec-9d3c-e53bdb0616c4",
   "metadata": {},
   "source": [
    "### A continuación, se presentan algunos ejemplos de evaluación de expresiones aritméticas en python"
   ]
  },
  {
   "cell_type": "code",
   "execution_count": 20,
   "id": "a0776245-18a5-4f9f-b71c-83cdad4f5e95",
   "metadata": {},
   "outputs": [
    {
     "data": {
      "text/plain": [
       "17"
      ]
     },
     "execution_count": 20,
     "metadata": {},
     "output_type": "execute_result"
    }
   ],
   "source": [
    "(3*4)+5 #Esta es una expresión que multiplica y suma números enteros"
   ]
  },
  {
   "cell_type": "code",
   "execution_count": 24,
   "id": "5fce0f28-317e-457b-9608-87e58557ceb5",
   "metadata": {},
   "outputs": [
    {
     "data": {
      "text/plain": [
       "3.33"
      ]
     },
     "execution_count": 24,
     "metadata": {},
     "output_type": "execute_result"
    }
   ],
   "source": [
    "x = 200\n",
    "minutos_a_horas = round(x/60,2) #Esta expresión transforma el valor de x de minutos a horas dividiendo entre 60\n",
    "minutos_a_horas"
   ]
  },
  {
   "cell_type": "markdown",
   "id": "de81120d-4178-4f30-a578-14cf34856357",
   "metadata": {},
   "source": [
    "**Objetivos:**\n",
    "- Listar lenguajes populares para ciencia de datos.\n",
    "- Listar bibliotecas comunes en ciencia de datos.\n",
    "- listar herramientas útiles.\n",
    "- Realizar expresiones aritméticas."
   ]
  },
  {
   "cell_type": "markdown",
   "id": "85e222a0-5731-44e1-bbf2-038b9acf07a5",
   "metadata": {},
   "source": [
    "## Autor\n",
    "Israel Méndez Caneo"
   ]
  },
  {
   "cell_type": "code",
   "execution_count": null,
   "id": "a4c6652c-0608-4394-b4fd-b2a45a7a846e",
   "metadata": {},
   "outputs": [],
   "source": []
  }
 ],
 "metadata": {
  "kernelspec": {
   "display_name": "Python [conda env:base] *",
   "language": "python",
   "name": "conda-base-py"
  },
  "language_info": {
   "codemirror_mode": {
    "name": "ipython",
    "version": 3
   },
   "file_extension": ".py",
   "mimetype": "text/x-python",
   "name": "python",
   "nbconvert_exporter": "python",
   "pygments_lexer": "ipython3",
   "version": "3.11.7"
  }
 },
 "nbformat": 4,
 "nbformat_minor": 5
}
